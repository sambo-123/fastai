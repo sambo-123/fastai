{
 "cells": [
  {
   "cell_type": "code",
   "execution_count": 15,
   "metadata": {
    "ExecuteTime": {
     "end_time": "2019-11-01T14:56:39.320121Z",
     "start_time": "2019-11-01T14:56:39.045627Z"
    }
   },
   "outputs": [],
   "source": [
    "%load_ext autoreload\n",
    "%autoreload 2\n",
    "\n",
    "%matplotlib inline\n"
   ]
  },
  {
   "cell_type": "code",
   "execution_count": 25,
   "metadata": {
    "ExecuteTime": {
     "end_time": "2019-11-01T15:00:01.908972Z",
     "start_time": "2019-11-01T15:00:01.845997Z"
    }
   },
   "outputs": [],
   "source": [
    "from exp.nb_00 import *\n",
    "import operator\n",
    "\n",
    "def test1(a,b,cmp,cname=None):\n",
    "    if cname is None:cname=cmp.__name__\n",
    "        \n",
    "    assert cmp(a,b), f\"{cname}:\\n{a}\\n{b}\"\n",
    "    \n",
    "def test_eq(a,b): test1(a,b,operator.eq,'==')\n",
    "    "
   ]
  },
  {
   "cell_type": "code",
   "execution_count": 130,
   "metadata": {
    "ExecuteTime": {
     "end_time": "2019-11-01T16:36:58.780605Z",
     "start_time": "2019-11-01T16:36:58.559971Z"
    }
   },
   "outputs": [
    {
     "name": "stdout",
     "output_type": "stream",
     "text": [
      "Converted 01_UnitTesting.ipynb to exp\\nb_01.py\n"
     ]
    }
   ],
   "source": [
    "!python notebook2script.py 01_UnitTesting.ipynb"
   ]
  },
  {
   "cell_type": "code",
   "execution_count": 28,
   "metadata": {
    "ExecuteTime": {
     "end_time": "2019-11-01T15:03:13.475149Z",
     "start_time": "2019-11-01T15:03:13.413124Z"
    }
   },
   "outputs": [],
   "source": [
    "test_eq(test,\"TEST\")"
   ]
  },
  {
   "cell_type": "code",
   "execution_count": 125,
   "metadata": {
    "ExecuteTime": {
     "end_time": "2019-11-01T16:34:15.295738Z",
     "start_time": "2019-11-01T16:34:15.172895Z"
    }
   },
   "outputs": [],
   "source": [
    "#export\n",
    "from pathlib import Path\n",
    "from IPython.core.debugger import set_trace\n",
    "from fastai import datasets\n",
    "import pickle, gzip, math, torch, matplotlib as mpl\n",
    "import matplotlib.pyplot as plt\n",
    "from torch import tensor\n",
    "\n",
    "MNIST_URL = 'http://deeplearning.net/data/mnist/mnist.pkl'"
   ]
  },
  {
   "cell_type": "code",
   "execution_count": 30,
   "metadata": {
    "ExecuteTime": {
     "end_time": "2019-11-01T15:05:12.793066Z",
     "start_time": "2019-11-01T15:05:00.389775Z"
    }
   },
   "outputs": [
    {
     "data": {
      "text/plain": [
       "WindowsPath('C:/Users/Sam.Macneil/.fastai/data/mnist.pkl.gz')"
      ]
     },
     "execution_count": 30,
     "metadata": {},
     "output_type": "execute_result"
    }
   ],
   "source": [
    "path = datasets.download_data(MNIST_URL,ext='.gz'); path"
   ]
  },
  {
   "cell_type": "code",
   "execution_count": 31,
   "metadata": {
    "ExecuteTime": {
     "end_time": "2019-11-01T15:06:03.654110Z",
     "start_time": "2019-11-01T15:06:02.836172Z"
    }
   },
   "outputs": [],
   "source": [
    "with gzip.open(path, 'rb') as f:\n",
    "    ((x_train, y_train), (x_valid, y_valid), _) = pickle.load(f, encoding='latin-1')"
   ]
  },
  {
   "cell_type": "code",
   "execution_count": 32,
   "metadata": {
    "ExecuteTime": {
     "end_time": "2019-11-01T15:07:30.475752Z",
     "start_time": "2019-11-01T15:07:30.253535Z"
    }
   },
   "outputs": [
    {
     "data": {
      "text/plain": [
       "(tensor([[0., 0., 0.,  ..., 0., 0., 0.],\n",
       "         [0., 0., 0.,  ..., 0., 0., 0.],\n",
       "         [0., 0., 0.,  ..., 0., 0., 0.],\n",
       "         ...,\n",
       "         [0., 0., 0.,  ..., 0., 0., 0.],\n",
       "         [0., 0., 0.,  ..., 0., 0., 0.],\n",
       "         [0., 0., 0.,  ..., 0., 0., 0.]]),\n",
       " torch.Size([50000, 784]),\n",
       " tensor([5, 0, 4,  ..., 8, 4, 8]),\n",
       " torch.Size([50000]),\n",
       " tensor(0),\n",
       " tensor(9))"
      ]
     },
     "execution_count": 32,
     "metadata": {},
     "output_type": "execute_result"
    }
   ],
   "source": [
    "x_train, y_train, x_valid, y_valid = map(tensor, (x_train,y_train,x_valid,y_valid))\n",
    "n,c = x_train.shape\n",
    "x_train, x_train.shape, y_train, y_train.shape, y_train.min(), y_train.max()"
   ]
  },
  {
   "cell_type": "code",
   "execution_count": null,
   "metadata": {},
   "outputs": [],
   "source": [
    "# Let's test whether the number of rows equals the training shape, the number of columns is 28*28 (from our image shape),"
   ]
  },
  {
   "cell_type": "code",
   "execution_count": 33,
   "metadata": {
    "ExecuteTime": {
     "end_time": "2019-11-01T15:10:47.434096Z",
     "start_time": "2019-11-01T15:10:47.309964Z"
    }
   },
   "outputs": [],
   "source": [
    "assert n==y_train.shape[0]==50000\n",
    "test_eq(c,28*28)\n",
    "test_eq(y_train.min(),0)\n",
    "test_eq(y_train.max(),9)"
   ]
  },
  {
   "cell_type": "code",
   "execution_count": 34,
   "metadata": {
    "ExecuteTime": {
     "end_time": "2019-11-01T15:11:38.706307Z",
     "start_time": "2019-11-01T15:11:38.588487Z"
    }
   },
   "outputs": [],
   "source": [
    "mpl.rcParams['image.cmap'] = 'gray'\n"
   ]
  },
  {
   "cell_type": "code",
   "execution_count": 35,
   "metadata": {
    "ExecuteTime": {
     "end_time": "2019-11-01T15:11:55.041504Z",
     "start_time": "2019-11-01T15:11:54.924680Z"
    }
   },
   "outputs": [],
   "source": [
    "img = x_train[0]\n"
   ]
  },
  {
   "cell_type": "code",
   "execution_count": 39,
   "metadata": {
    "ExecuteTime": {
     "end_time": "2019-11-01T15:12:20.393053Z",
     "start_time": "2019-11-01T15:12:20.276364Z"
    }
   },
   "outputs": [
    {
     "data": {
      "text/plain": [
       "'torch.FloatTensor'"
      ]
     },
     "execution_count": 39,
     "metadata": {},
     "output_type": "execute_result"
    }
   ],
   "source": [
    "img.view(28,28).type()"
   ]
  },
  {
   "cell_type": "code",
   "execution_count": 40,
   "metadata": {
    "ExecuteTime": {
     "end_time": "2019-11-01T15:12:22.800729Z",
     "start_time": "2019-11-01T15:12:22.621180Z"
    }
   },
   "outputs": [
    {
     "data": {
      "text/plain": [
       "<matplotlib.image.AxesImage at 0x1eb4ab4b550>"
      ]
     },
     "execution_count": 40,
     "metadata": {},
     "output_type": "execute_result"
    },
    {
     "data": {
      "image/png": "[encoded data removed]",
      "text/plain": [
       "<Figure size 432x288 with 1 Axes>"
      ]
     },
     "metadata": {
      "needs_background": "light"
     },
     "output_type": "display_data"
    }
   ],
   "source": [
    "plt.imshow(img.view(28,28))"
   ]
  },
  {
   "cell_type": "code",
   "execution_count": 42,
   "metadata": {
    "ExecuteTime": {
     "end_time": "2019-11-01T15:12:56.214442Z",
     "start_time": "2019-11-01T15:12:56.093630Z"
    }
   },
   "outputs": [],
   "source": [
    "img.view??"
   ]
  },
  {
   "cell_type": "code",
   "execution_count": 45,
   "metadata": {
    "ExecuteTime": {
     "end_time": "2019-11-01T15:14:04.382133Z",
     "start_time": "2019-11-01T15:14:04.213616Z"
    }
   },
   "outputs": [
    {
     "data": {
      "text/plain": [
       "<matplotlib.image.AxesImage at 0x1eb4ac43e10>"
      ]
     },
     "execution_count": 45,
     "metadata": {},
     "output_type": "execute_result"
    },
    {
     "data": {
      "image/png": "[encoded data removed]",
      "text/plain": [
       "<Figure size 432x288 with 1 Axes>"
      ]
     },
     "metadata": {
      "needs_background": "light"
     },
     "output_type": "display_data"
    }
   ],
   "source": [
    "plt.imshow(img.view(-1,112))"
   ]
  },
  {
   "cell_type": "code",
   "execution_count": 46,
   "metadata": {
    "ExecuteTime": {
     "end_time": "2019-11-01T15:14:20.384548Z",
     "start_time": "2019-11-01T15:14:20.253391Z"
    }
   },
   "outputs": [],
   "source": [
    "weights = torch.randn(784,10)"
   ]
  },
  {
   "cell_type": "code",
   "execution_count": 48,
   "metadata": {
    "ExecuteTime": {
     "end_time": "2019-11-01T15:14:56.632325Z",
     "start_time": "2019-11-01T15:14:56.509655Z"
    }
   },
   "outputs": [],
   "source": [
    "bias = torch.zeros(10)"
   ]
  },
  {
   "cell_type": "code",
   "execution_count": 54,
   "metadata": {
    "ExecuteTime": {
     "end_time": "2019-11-01T15:15:24.644439Z",
     "start_time": "2019-11-01T15:15:24.532260Z"
    }
   },
   "outputs": [
    {
     "data": {
      "text/plain": [
       "tensor([0., 0., 0., 0., 0., 0., 0., 0., 0., 0.])"
      ]
     },
     "execution_count": 54,
     "metadata": {},
     "output_type": "execute_result"
    }
   ],
   "source": [
    "bias"
   ]
  },
  {
   "cell_type": "code",
   "execution_count": 63,
   "metadata": {
    "ExecuteTime": {
     "end_time": "2019-11-01T15:30:33.131897Z",
     "start_time": "2019-11-01T15:30:33.011593Z"
    }
   },
   "outputs": [
    {
     "data": {
      "text/plain": [
       "torch.Size([10])"
      ]
     },
     "execution_count": 63,
     "metadata": {},
     "output_type": "execute_result"
    }
   ],
   "source": [
    "bias.shape"
   ]
  },
  {
   "cell_type": "code",
   "execution_count": 83,
   "metadata": {
    "ExecuteTime": {
     "end_time": "2019-11-01T15:46:52.429230Z",
     "start_time": "2019-11-01T15:46:52.314358Z"
    }
   },
   "outputs": [],
   "source": [
    "def matmul2(a,b):\n",
    "    \n",
    "    # how big are they\n",
    "    # check that their dimensions are compatible\n",
    "    ar,ac = a.shape\n",
    "    br,bc = b.shape\n",
    "    \n",
    "    assert ac==br\n",
    "    c = torch.zeros(ar,bc)\n",
    "    for i in range(ar):\n",
    "        for j in range(bc):\n",
    "            for k in range(ac):\n",
    "                c[i,j] += a[i,k] * b[k,j]\n",
    "                \n",
    "    return c\n",
    "  \n",
    "        \n",
    "        \n",
    "    "
   ]
  },
  {
   "cell_type": "code",
   "execution_count": 64,
   "metadata": {
    "ExecuteTime": {
     "end_time": "2019-11-01T15:32:35.660419Z",
     "start_time": "2019-11-01T15:32:35.540146Z"
    }
   },
   "outputs": [],
   "source": [
    "m1 = x_valid[:5]\n",
    "m2 = weights"
   ]
  },
  {
   "cell_type": "code",
   "execution_count": 65,
   "metadata": {
    "ExecuteTime": {
     "end_time": "2019-11-01T15:32:41.334565Z",
     "start_time": "2019-11-01T15:32:41.211839Z"
    }
   },
   "outputs": [
    {
     "data": {
      "text/plain": [
       "(torch.Size([5, 784]), torch.Size([784, 10]))"
      ]
     },
     "execution_count": 65,
     "metadata": {},
     "output_type": "execute_result"
    }
   ],
   "source": [
    "m1.shape, m2.shape"
   ]
  },
  {
   "cell_type": "code",
   "execution_count": 84,
   "metadata": {
    "ExecuteTime": {
     "end_time": "2019-11-01T15:46:55.507238Z",
     "start_time": "2019-11-01T15:46:54.458401Z"
    }
   },
   "outputs": [],
   "source": [
    "t1 = matmul2(m1,m2)"
   ]
  },
  {
   "cell_type": "code",
   "execution_count": 108,
   "metadata": {
    "ExecuteTime": {
     "end_time": "2019-11-01T16:01:39.355595Z",
     "start_time": "2019-11-01T16:01:39.208568Z"
    }
   },
   "outputs": [
    {
     "name": "stdout",
     "output_type": "stream",
     "text": [
      "393 µs ± 195 µs per loop (mean ± std. dev. of 7 runs, 10 loops each)\n"
     ]
    }
   ],
   "source": [
    "%timeit -n 10  _= matmul(m1,m2)"
   ]
  },
  {
   "cell_type": "code",
   "execution_count": 87,
   "metadata": {
    "ExecuteTime": {
     "end_time": "2019-11-01T15:47:46.129237Z",
     "start_time": "2019-11-01T15:47:46.010536Z"
    }
   },
   "outputs": [
    {
     "data": {
      "text/plain": [
       "tensor([[ -8.2898,   6.1892,   2.8968,   0.9740, -21.6833,  10.6197,   7.3075,\n",
       "           8.9773,  12.7313,  -4.2296],\n",
       "        [-12.1347,  16.0648,   2.6480,   2.5760, -14.4232,   9.9838,  -4.0510,\n",
       "          -2.8991,  14.9234,   5.0424],\n",
       "        [ -5.6448,   6.6650,  -1.1159,   1.9044, -15.8793,   3.8761,  -1.7822,\n",
       "          10.5692,   4.7390,  -3.8989],\n",
       "        [ -8.2422,  11.1564,   1.5205,   6.3150,  -3.4319,   2.8112,  -1.5049,\n",
       "           2.0394,   1.1134,  10.0402],\n",
       "        [ -6.8079,  12.7759,   7.7129,  -2.0593, -23.8173,  -5.0870,  -7.1003,\n",
       "          -2.9814,  -4.8161,   3.3802]])"
      ]
     },
     "execution_count": 87,
     "metadata": {},
     "output_type": "execute_result"
    }
   ],
   "source": [
    "t1"
   ]
  },
  {
   "cell_type": "code",
   "execution_count": 107,
   "metadata": {
    "ExecuteTime": {
     "end_time": "2019-11-01T16:01:31.035279Z",
     "start_time": "2019-11-01T16:01:30.914039Z"
    }
   },
   "outputs": [],
   "source": [
    "def matmul(a,b):\n",
    "    \n",
    "    # how big are they\n",
    "    # check that their dimensions are compatible\n",
    "    ar,ac = a.shape\n",
    "    br,bc = b.shape\n",
    "    \n",
    "    assert ac==br\n",
    "    c = torch.zeros(ar,bc)\n",
    "    for i in range(ar):\n",
    "        \n",
    "        #c[i,j] = (a[i,:] * b[:,j]).sum()\n",
    "        c[i,:] = (a[i,:].unsqueeze(-1) * b).sum(dim=0)\n",
    "                \n",
    "    return c"
   ]
  },
  {
   "cell_type": "code",
   "execution_count": 112,
   "metadata": {
    "ExecuteTime": {
     "end_time": "2019-11-01T16:09:30.702283Z",
     "start_time": "2019-11-01T16:09:30.583468Z"
    }
   },
   "outputs": [],
   "source": [
    "a = tensor([2,3])"
   ]
  },
  {
   "cell_type": "code",
   "execution_count": 115,
   "metadata": {
    "ExecuteTime": {
     "end_time": "2019-11-01T16:10:00.533502Z",
     "start_time": "2019-11-01T16:10:00.415812Z"
    }
   },
   "outputs": [],
   "source": [
    "b = tensor([[3,5],[6,9]])"
   ]
  },
  {
   "cell_type": "code",
   "execution_count": 116,
   "metadata": {
    "ExecuteTime": {
     "end_time": "2019-11-01T16:10:02.922276Z",
     "start_time": "2019-11-01T16:10:02.799841Z"
    }
   },
   "outputs": [
    {
     "data": {
      "text/plain": [
       "tensor([[2, 2],\n",
       "        [3, 3]])"
      ]
     },
     "execution_count": 116,
     "metadata": {},
     "output_type": "execute_result"
    }
   ],
   "source": [
    "a.unsqueeze(-1).expand_as(b)\n"
   ]
  },
  {
   "cell_type": "code",
   "execution_count": 92,
   "metadata": {
    "ExecuteTime": {
     "end_time": "2019-11-01T15:48:48.767961Z",
     "start_time": "2019-11-01T15:48:48.651167Z"
    }
   },
   "outputs": [],
   "source": [
    "def near(a,b): \n",
    "    return torch.allclose(a,b,rtol=1e-3,atol=1e-5)\n",
    "def test_near(a,b): \n",
    "    test1(a,b,near)"
   ]
  },
  {
   "cell_type": "code",
   "execution_count": 93,
   "metadata": {
    "ExecuteTime": {
     "end_time": "2019-11-01T15:48:50.681998Z",
     "start_time": "2019-11-01T15:48:50.554310Z"
    }
   },
   "outputs": [],
   "source": [
    "test_near(t1,matmul(m1,m2))"
   ]
  },
  {
   "cell_type": "code",
   "execution_count": 94,
   "metadata": {
    "ExecuteTime": {
     "end_time": "2019-11-01T15:54:09.932134Z",
     "start_time": "2019-11-01T15:54:09.810431Z"
    }
   },
   "outputs": [
    {
     "data": {
      "text/plain": [
       "tensor([10., 20., 30.])"
      ]
     },
     "execution_count": 94,
     "metadata": {},
     "output_type": "execute_result"
    }
   ],
   "source": [
    "c = tensor([10.,20,30]); c"
   ]
  },
  {
   "cell_type": "code",
   "execution_count": 96,
   "metadata": {
    "ExecuteTime": {
     "end_time": "2019-11-01T15:54:20.183311Z",
     "start_time": "2019-11-01T15:54:20.066639Z"
    }
   },
   "outputs": [
    {
     "data": {
      "text/plain": [
       "torch.Size([3])"
      ]
     },
     "execution_count": 96,
     "metadata": {},
     "output_type": "execute_result"
    }
   ],
   "source": [
    "c.shape"
   ]
  },
  {
   "cell_type": "code",
   "execution_count": 104,
   "metadata": {
    "ExecuteTime": {
     "end_time": "2019-11-01T15:55:13.520123Z",
     "start_time": "2019-11-01T15:55:13.402434Z"
    }
   },
   "outputs": [
    {
     "data": {
      "text/plain": [
       "torch.Size([1, 3])"
      ]
     },
     "execution_count": 104,
     "metadata": {},
     "output_type": "execute_result"
    }
   ],
   "source": [
    "c.unsqueeze(0).shape"
   ]
  },
  {
   "cell_type": "code",
   "execution_count": 102,
   "metadata": {
    "ExecuteTime": {
     "end_time": "2019-11-01T15:55:05.800070Z",
     "start_time": "2019-11-01T15:55:05.682418Z"
    }
   },
   "outputs": [
    {
     "data": {
      "text/plain": [
       "torch.Size([1, 3])"
      ]
     },
     "execution_count": 102,
     "metadata": {},
     "output_type": "execute_result"
    }
   ],
   "source": [
    "c[None,:].shape"
   ]
  },
  {
   "cell_type": "code",
   "execution_count": 105,
   "metadata": {
    "ExecuteTime": {
     "end_time": "2019-11-01T15:55:28.602924Z",
     "start_time": "2019-11-01T15:55:28.482240Z"
    }
   },
   "outputs": [
    {
     "data": {
      "text/plain": [
       "torch.Size([3, 1])"
      ]
     },
     "execution_count": 105,
     "metadata": {},
     "output_type": "execute_result"
    }
   ],
   "source": [
    "c[:,None].shape"
   ]
  },
  {
   "cell_type": "code",
   "execution_count": 106,
   "metadata": {
    "ExecuteTime": {
     "end_time": "2019-11-01T15:55:54.299291Z",
     "start_time": "2019-11-01T15:55:54.177466Z"
    }
   },
   "outputs": [
    {
     "data": {
      "text/plain": [
       "torch.Size([3, 1])"
      ]
     },
     "execution_count": 106,
     "metadata": {},
     "output_type": "execute_result"
    }
   ],
   "source": [
    "c.unsqueeze(1).shape"
   ]
  },
  {
   "cell_type": "code",
   "execution_count": 117,
   "metadata": {
    "ExecuteTime": {
     "end_time": "2019-11-01T16:23:10.506272Z",
     "start_time": "2019-11-01T16:23:10.386279Z"
    }
   },
   "outputs": [],
   "source": [
    "def matmul(a,b): return torch.einsum('ik,kj->ij', a, b)"
   ]
  },
  {
   "cell_type": "code",
   "execution_count": 120,
   "metadata": {
    "ExecuteTime": {
     "end_time": "2019-11-01T16:23:44.499274Z",
     "start_time": "2019-11-01T16:23:44.378610Z"
    }
   },
   "outputs": [
    {
     "name": "stdout",
     "output_type": "stream",
     "text": [
      "38.7 µs ± 3.33 µs per loop (mean ± std. dev. of 7 runs, 10 loops each)\n"
     ]
    }
   ],
   "source": [
    "%timeit -n 10 _=matmul(m1,m2)"
   ]
  },
  {
   "cell_type": "code",
   "execution_count": 122,
   "metadata": {
    "ExecuteTime": {
     "end_time": "2019-11-01T16:26:58.735200Z",
     "start_time": "2019-11-01T16:26:58.616652Z"
    }
   },
   "outputs": [
    {
     "name": "stdout",
     "output_type": "stream",
     "text": [
      "6.74 µs ± 4.33 µs per loop (mean ± std. dev. of 7 runs, 10 loops each)\n"
     ]
    }
   ],
   "source": [
    "%timeit -n 10 t2 = m1.matmul(m2)"
   ]
  },
  {
   "cell_type": "code",
   "execution_count": 123,
   "metadata": {
    "ExecuteTime": {
     "end_time": "2019-11-01T16:28:03.966174Z",
     "start_time": "2019-11-01T16:28:03.848932Z"
    }
   },
   "outputs": [],
   "source": [
    "t2 = m1@m2"
   ]
  },
  {
   "cell_type": "code",
   "execution_count": 124,
   "metadata": {
    "ExecuteTime": {
     "end_time": "2019-11-01T16:28:06.185431Z",
     "start_time": "2019-11-01T16:28:06.064565Z"
    }
   },
   "outputs": [
    {
     "data": {
      "text/plain": [
       "tensor([[ -8.2898,   6.1892,   2.8968,   0.9740, -21.6833,  10.6197,   7.3075,\n",
       "           8.9773,  12.7313,  -4.2296],\n",
       "        [-12.1347,  16.0648,   2.6480,   2.5760, -14.4232,   9.9838,  -4.0510,\n",
       "          -2.8991,  14.9234,   5.0424],\n",
       "        [ -5.6448,   6.6650,  -1.1159,   1.9044, -15.8793,   3.8761,  -1.7822,\n",
       "          10.5692,   4.7390,  -3.8989],\n",
       "        [ -8.2422,  11.1564,   1.5205,   6.3150,  -3.4319,   2.8112,  -1.5049,\n",
       "           2.0394,   1.1134,  10.0402],\n",
       "        [ -6.8079,  12.7759,   7.7129,  -2.0593, -23.8173,  -5.0870,  -7.1003,\n",
       "          -2.9814,  -4.8161,   3.3802]])"
      ]
     },
     "execution_count": 124,
     "metadata": {},
     "output_type": "execute_result"
    }
   ],
   "source": [
    "t2"
   ]
  },
  {
   "cell_type": "code",
   "execution_count": null,
   "metadata": {},
   "outputs": [],
   "source": []
  },
  {
   "cell_type": "code",
   "execution_count": null,
   "metadata": {},
   "outputs": [],
   "source": []
  }
 ],
 "metadata": {
  "kernelspec": {
   "display_name": "Python 3",
   "language": "python",
   "name": "python3"
  },
  "language_info": {
   "codemirror_mode": {
    "name": "ipython",
    "version": 3
   },
   "file_extension": ".py",
   "mimetype": "text/x-python",
   "name": "python",
   "nbconvert_exporter": "python",
   "pygments_lexer": "ipython3",
   "version": "3.6.9"
  }
 },
 "nbformat": 4,
 "nbformat_minor": 2
}
