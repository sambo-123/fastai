{
 "cells": [
  {
   "cell_type": "code",
   "execution_count": 13,
   "metadata": {
    "ExecuteTime": {
     "end_time": "2019-11-01T14:59:01.547102Z",
     "start_time": "2019-11-01T14:59:01.544080Z"
    }
   },
   "outputs": [],
   "source": [
    "#export \n",
    "\n",
    "test = \"TEST\""
   ]
  },
  {
   "cell_type": "code",
   "execution_count": 14,
   "metadata": {
    "ExecuteTime": {
     "end_time": "2019-11-01T14:59:03.653205Z",
     "start_time": "2019-11-01T14:59:03.541510Z"
    }
   },
   "outputs": [
    {
     "name": "stdout",
     "output_type": "stream",
     "text": [
      "Converted 00_FastAI.ipynb to exp\\nb_00.py\n"
     ]
    }
   ],
   "source": [
    "!python notebook2script.py 00_FastAI.ipynb"
   ]
  },
  {
   "cell_type": "code",
   "execution_count": 8,
   "metadata": {
    "ExecuteTime": {
     "end_time": "2019-11-01T14:43:06.355022Z",
     "start_time": "2019-11-01T14:43:06.351033Z"
    }
   },
   "outputs": [],
   "source": [
    "import json\n",
    "\n",
    "d = json.load(open('00_FastAI.ipynb','r'))['cells']"
   ]
  },
  {
   "cell_type": "code",
   "execution_count": 10,
   "metadata": {
    "ExecuteTime": {
     "end_time": "2019-11-01T14:43:11.083025Z",
     "start_time": "2019-11-01T14:43:11.079024Z"
    }
   },
   "outputs": [
    {
     "data": {
      "text/plain": [
       "{'cell_type': 'code',\n",
       " 'execution_count': 2,\n",
       " 'metadata': {'ExecuteTime': {'end_time': '2019-11-01T14:39:01.630434Z',\n",
       "   'start_time': '2019-11-01T14:39:01.627434Z'}},\n",
       " 'outputs': [],\n",
       " 'source': ['#export \\n', '\\n', 'test = \"TEST\"']}"
      ]
     },
     "execution_count": 10,
     "metadata": {},
     "output_type": "execute_result"
    }
   ],
   "source": [
    "d[0]"
   ]
  },
  {
   "cell_type": "code",
   "execution_count": null,
   "metadata": {},
   "outputs": [],
   "source": []
  }
 ],
 "metadata": {
  "kernelspec": {
   "display_name": "Python 3",
   "language": "python",
   "name": "python3"
  },
  "language_info": {
   "codemirror_mode": {
    "name": "ipython",
    "version": 3
   },
   "file_extension": ".py",
   "mimetype": "text/x-python",
   "name": "python",
   "nbconvert_exporter": "python",
   "pygments_lexer": "ipython3",
   "version": "3.6.9"
  }
 },
 "nbformat": 4,
 "nbformat_minor": 2
}
